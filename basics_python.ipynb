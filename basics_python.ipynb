{
  "nbformat": 4,
  "nbformat_minor": 0,
  "metadata": {
    "colab": {
      "provenance": []
    },
    "kernelspec": {
      "name": "python3",
      "display_name": "Python 3"
    },
    "language_info": {
      "name": "python"
    }
  },
  "cells": [
    {
      "cell_type": "code",
      "execution_count": null,
      "metadata": {
        "colab": {
          "base_uri": "https://localhost:8080/"
        },
        "id": "w8Dfyd0JOsX3",
        "outputId": "79f7c6b5-c42f-4595-b467-4509ebfee580"
      },
      "outputs": [
        {
          "output_type": "stream",
          "name": "stdout",
          "text": [
            "hello\n"
          ]
        }
      ],
      "source": [
        "print(\"hello\")"
      ]
    },
    {
      "cell_type": "markdown",
      "source": [
        "# python basics\n",
        "## Python data types\n",
        "### Immutable Data Types\n",
        "#### Strings, Numbers, Tuples jgzgdxgj\n",
        "#### jdsgdfgsfgdgfgfgfgdfgdgdgg\n",
        "ghdsgfgsfdgs\n",
        "[link text](https://www.google.com)"
      ],
      "metadata": {
        "id": "IpNplhmnPWvZ"
      }
    },
    {
      "cell_type": "code",
      "source": [
        "print(\"hello\",\"apple\",\"banana\")"
      ],
      "metadata": {
        "colab": {
          "base_uri": "https://localhost:8080/"
        },
        "id": "Kz7vuxk_QJvW",
        "outputId": "6af26fc8-91e5-4a1b-cadb-fd577495b4f7"
      },
      "execution_count": null,
      "outputs": [
        {
          "output_type": "stream",
          "name": "stdout",
          "text": [
            "hello apple banana\n"
          ]
        }
      ]
    },
    {
      "cell_type": "code",
      "source": [
        "x=23"
      ],
      "metadata": {
        "id": "5ZDMDXdARVl_"
      },
      "execution_count": null,
      "outputs": []
    },
    {
      "cell_type": "code",
      "source": [
        "type(x)"
      ],
      "metadata": {
        "colab": {
          "base_uri": "https://localhost:8080/"
        },
        "id": "2vJv-GnPRpWk",
        "outputId": "4fabc69b-75f4-4118-e9d3-5b78e16615d6"
      },
      "execution_count": null,
      "outputs": [
        {
          "output_type": "execute_result",
          "data": {
            "text/plain": [
              "int"
            ]
          },
          "metadata": {},
          "execution_count": 6
        }
      ]
    },
    {
      "cell_type": "code",
      "source": [
        "print(\"the number is\",x,sep=\"::\")"
      ],
      "metadata": {
        "colab": {
          "base_uri": "https://localhost:8080/"
        },
        "id": "srftOhMqRtxO",
        "outputId": "f19c3561-62e5-442e-a053-b270ffd30a62"
      },
      "execution_count": null,
      "outputs": [
        {
          "output_type": "stream",
          "name": "stdout",
          "text": [
            "the number is::23\n"
          ]
        }
      ]
    },
    {
      "cell_type": "code",
      "source": [
        "#192.168.23.100"
      ],
      "metadata": {
        "id": "W1qDE9sTSH6T"
      },
      "execution_count": null,
      "outputs": []
    },
    {
      "cell_type": "code",
      "source": [
        "print(192,168,23,10,sep=\".\",end=\"*\")"
      ],
      "metadata": {
        "colab": {
          "base_uri": "https://localhost:8080/"
        },
        "id": "v73fnZWMS3Et",
        "outputId": "b8db928b-0d08-4795-f59e-ebfa00530737"
      },
      "execution_count": null,
      "outputs": [
        {
          "output_type": "stream",
          "name": "stdout",
          "text": [
            "192.168.23.10*"
          ]
        }
      ]
    },
    {
      "cell_type": "code",
      "source": [
        "name1=\"ruhi\"\n",
        "name2=\"ramya\"\n",
        "relation=\"enemies\""
      ],
      "metadata": {
        "id": "cASz6-jtTfLJ"
      },
      "execution_count": null,
      "outputs": []
    },
    {
      "cell_type": "code",
      "source": [
        "print(\"{} and {} are {}\".format(name1,name2,relation))"
      ],
      "metadata": {
        "colab": {
          "base_uri": "https://localhost:8080/"
        },
        "id": "XLck1looS8kU",
        "outputId": "bd0ea7e3-2911-4802-9cf8-557f331df492"
      },
      "execution_count": null,
      "outputs": [
        {
          "output_type": "stream",
          "name": "stdout",
          "text": [
            "ruhi and ramya are enemies\n"
          ]
        }
      ]
    },
    {
      "cell_type": "code",
      "source": [
        "l=[10,20,30,40,50]"
      ],
      "metadata": {
        "id": "S5XM9JHhUoQR"
      },
      "execution_count": null,
      "outputs": []
    },
    {
      "cell_type": "code",
      "source": [
        "print(l)"
      ],
      "metadata": {
        "colab": {
          "base_uri": "https://localhost:8080/"
        },
        "id": "e80PE4jWnAbV",
        "outputId": "7e8e312a-ac5d-4cd1-ccc5-7c56dc0c4da2"
      },
      "execution_count": null,
      "outputs": [
        {
          "output_type": "stream",
          "name": "stdout",
          "text": [
            "[10, 20, 30, 40, 50]\n"
          ]
        }
      ]
    },
    {
      "cell_type": "code",
      "source": [],
      "metadata": {
        "id": "Gl9rSflunB4X"
      },
      "execution_count": null,
      "outputs": []
    },
    {
      "cell_type": "code",
      "source": [
        "for i in l:\n",
        "  print(i)"
      ],
      "metadata": {
        "id": "M7bbYl3jUQN0",
        "colab": {
          "base_uri": "https://localhost:8080/"
        },
        "outputId": "a0f2e9e0-6bbd-41c8-b6ca-19e2dfbd6397"
      },
      "execution_count": null,
      "outputs": [
        {
          "output_type": "stream",
          "name": "stdout",
          "text": [
            "10\n",
            "20\n",
            "30\n",
            "40\n",
            "50\n"
          ]
        }
      ]
    },
    {
      "cell_type": "code",
      "source": [
        "d={\"a\":10,\"b\":20,\"c\":30,\"d\":40}"
      ],
      "metadata": {
        "id": "ZOV-iffunW62"
      },
      "execution_count": null,
      "outputs": []
    },
    {
      "cell_type": "code",
      "source": [
        "len(d)"
      ],
      "metadata": {
        "colab": {
          "base_uri": "https://localhost:8080/"
        },
        "id": "ncsPfTo0n9X7",
        "outputId": "2a500c95-b803-4815-9eae-dca3002d6cc2"
      },
      "execution_count": null,
      "outputs": [
        {
          "output_type": "execute_result",
          "data": {
            "text/plain": [
              "4"
            ]
          },
          "metadata": {},
          "execution_count": 5
        }
      ]
    },
    {
      "cell_type": "code",
      "source": [
        "l"
      ],
      "metadata": {
        "colab": {
          "base_uri": "https://localhost:8080/"
        },
        "id": "2qBUGonYn-sC",
        "outputId": "0d6ad0e6-3c77-4581-a401-6b44c700f3c1"
      },
      "execution_count": null,
      "outputs": [
        {
          "output_type": "execute_result",
          "data": {
            "text/plain": [
              "[10, 20, 30, 40, 50]"
            ]
          },
          "metadata": {},
          "execution_count": 6
        }
      ]
    },
    {
      "cell_type": "code",
      "source": [
        "l[0:3]"
      ],
      "metadata": {
        "colab": {
          "base_uri": "https://localhost:8080/"
        },
        "id": "ybxYF_0moStc",
        "outputId": "dc78667b-d292-4340-963c-27bda3bda19a"
      },
      "execution_count": null,
      "outputs": [
        {
          "output_type": "execute_result",
          "data": {
            "text/plain": [
              "[10, 20, 30]"
            ]
          },
          "metadata": {},
          "execution_count": 9
        }
      ]
    },
    {
      "cell_type": "code",
      "source": [
        "print(d)"
      ],
      "metadata": {
        "colab": {
          "base_uri": "https://localhost:8080/"
        },
        "id": "1QK3nyLfoeNj",
        "outputId": "d8db05d0-9008-4767-f715-13948c875aa0"
      },
      "execution_count": null,
      "outputs": [
        {
          "output_type": "stream",
          "name": "stdout",
          "text": [
            "{'a': 10, 'b': 20, 'c': 30, 'd': 40}\n"
          ]
        }
      ]
    },
    {
      "cell_type": "code",
      "source": [
        "d[\"b\"]"
      ],
      "metadata": {
        "colab": {
          "base_uri": "https://localhost:8080/"
        },
        "id": "MaRkDWS8opLq",
        "outputId": "f4395b35-d8b2-406c-e369-c5fded23fa6a"
      },
      "execution_count": null,
      "outputs": [
        {
          "output_type": "execute_result",
          "data": {
            "text/plain": [
              "20"
            ]
          },
          "metadata": {},
          "execution_count": 12
        }
      ]
    },
    {
      "cell_type": "code",
      "source": [
        "for i in d:\n",
        "  print(\"key: \",i)\n",
        "  print(\"value: \",d[i])"
      ],
      "metadata": {
        "colab": {
          "base_uri": "https://localhost:8080/"
        },
        "id": "J4DNTROWot2P",
        "outputId": "998f9397-8ca9-4724-8e68-96d7708cb7d9"
      },
      "execution_count": null,
      "outputs": [
        {
          "output_type": "stream",
          "name": "stdout",
          "text": [
            "key:  a\n",
            "value:  10\n",
            "key:  b\n",
            "value:  20\n",
            "key:  c\n",
            "value:  30\n",
            "key:  d\n",
            "value:  40\n"
          ]
        }
      ]
    },
    {
      "cell_type": "code",
      "source": [
        "fact=1\n",
        "n=int(input(\"Enter the number\"))\n",
        "for i in range(1,n+1):\n",
        "  fact=fact*i\n",
        "print(fact)"
      ],
      "metadata": {
        "colab": {
          "base_uri": "https://localhost:8080/"
        },
        "id": "0r9o_tvjpUad",
        "outputId": "33126882-eb77-4ab8-bf9b-cc5ef90fb392"
      },
      "execution_count": null,
      "outputs": [
        {
          "output_type": "stream",
          "name": "stdout",
          "text": [
            "Enter the number5\n",
            "120\n"
          ]
        }
      ]
    },
    {
      "cell_type": "code",
      "source": [
        "a=int(input(\"Enter first number\"))\n",
        "b=int(input(\"Enter second number\"))\n",
        "op=input(\"Enter the opeartor\")\n",
        "if(op==\"+\"):\n",
        "  print(a+b)\n",
        "elif(op==\"-\"):\n",
        "  print(a-b)\n",
        "elif(op==\"*\"):\n",
        "  print(a*b)\n",
        "elif(op==\"/\"):\n",
        "  print(a/b)\n",
        "else:\n",
        "  print(\"Invalid Operator\")"
      ],
      "metadata": {
        "colab": {
          "base_uri": "https://localhost:8080/"
        },
        "id": "ibj7oA-DrANZ",
        "outputId": "0503c208-3f46-44b0-89c3-5c454d678817"
      },
      "execution_count": null,
      "outputs": [
        {
          "output_type": "stream",
          "name": "stdout",
          "text": [
            "Enter first number12\n",
            "Enter second number13\n",
            "Enter the opeartor+\n",
            "25\n"
          ]
        }
      ]
    },
    {
      "cell_type": "code",
      "source": [
        "for i in range(5):\n",
        "  a=int(input(\"Enter first number\"))\n",
        "  b=int(input(\"Enter second number\"))\n",
        "  op=input(\"Enter the opeartor\")\n",
        "  if(op==\"+\"):\n",
        "    print(a+b)\n",
        "  elif(op==\"-\"):\n",
        "    print(a-b)\n",
        "  elif(op==\"*\"):\n",
        "    print(a*b)\n",
        "  elif(op==\"/\"):\n",
        "    print(a/b)\n",
        "  else:\n",
        "    print(\"Invalid Operator\")"
      ],
      "metadata": {
        "id": "XEDin-mqoY4u"
      },
      "execution_count": null,
      "outputs": []
    },
    {
      "cell_type": "code",
      "source": [
        "a=int(input(\"Enter the value\"))\n",
        "b=a+30\n",
        "while(a<b):\n",
        "  print(a)\n",
        "  a=a+1"
      ],
      "metadata": {
        "id": "S6HjrHIPwC96"
      },
      "execution_count": null,
      "outputs": []
    },
    {
      "cell_type": "code",
      "source": [
        "#infinite loop\n",
        "import time\n",
        "while(True):\n",
        "  print(\"hello world\")\n",
        "  time.sleep(1.5)"
      ],
      "metadata": {
        "id": "iZdy0P3yxjFc"
      },
      "execution_count": null,
      "outputs": []
    },
    {
      "cell_type": "markdown",
      "source": [
        "# **List**"
      ],
      "metadata": {
        "id": "R5SVEGUByufs"
      }
    },
    {
      "cell_type": "code",
      "source": [
        "l=[1,2,3,4,5,6,7,8,9]\n",
        "print(l)"
      ],
      "metadata": {
        "colab": {
          "base_uri": "https://localhost:8080/"
        },
        "id": "ZEt2867AytbL",
        "outputId": "643ddd0c-a3e2-4d8c-81d2-2f4f94d37bfe"
      },
      "execution_count": null,
      "outputs": [
        {
          "output_type": "stream",
          "name": "stdout",
          "text": [
            "[1, 2, 3, 4, 5, 6, 7, 8, 9]\n"
          ]
        }
      ]
    },
    {
      "cell_type": "code",
      "source": [
        "type(l)"
      ],
      "metadata": {
        "colab": {
          "base_uri": "https://localhost:8080/"
        },
        "id": "yx2djS6rzH1V",
        "outputId": "bc5f16fa-3edb-425f-af6a-fabd6391e40c"
      },
      "execution_count": null,
      "outputs": [
        {
          "output_type": "execute_result",
          "data": {
            "text/plain": [
              "list"
            ]
          },
          "metadata": {},
          "execution_count": 7
        }
      ]
    },
    {
      "cell_type": "code",
      "source": [
        "len(l)"
      ],
      "metadata": {
        "colab": {
          "base_uri": "https://localhost:8080/"
        },
        "id": "Rief0MVwzLFJ",
        "outputId": "7c81161c-acd5-4d97-eaa9-dc3920c2f844"
      },
      "execution_count": null,
      "outputs": [
        {
          "output_type": "execute_result",
          "data": {
            "text/plain": [
              "9"
            ]
          },
          "metadata": {},
          "execution_count": 8
        }
      ]
    },
    {
      "cell_type": "code",
      "source": [
        "dir(l)"
      ],
      "metadata": {
        "colab": {
          "base_uri": "https://localhost:8080/"
        },
        "id": "USaxWzEtzN2-",
        "outputId": "ae5abca5-099a-4aed-e96c-01fadae40528"
      },
      "execution_count": null,
      "outputs": [
        {
          "output_type": "execute_result",
          "data": {
            "text/plain": [
              "['__add__',\n",
              " '__class__',\n",
              " '__contains__',\n",
              " '__delattr__',\n",
              " '__delitem__',\n",
              " '__dir__',\n",
              " '__doc__',\n",
              " '__eq__',\n",
              " '__format__',\n",
              " '__ge__',\n",
              " '__getattribute__',\n",
              " '__getitem__',\n",
              " '__gt__',\n",
              " '__hash__',\n",
              " '__iadd__',\n",
              " '__imul__',\n",
              " '__init__',\n",
              " '__init_subclass__',\n",
              " '__iter__',\n",
              " '__le__',\n",
              " '__len__',\n",
              " '__lt__',\n",
              " '__mul__',\n",
              " '__ne__',\n",
              " '__new__',\n",
              " '__reduce__',\n",
              " '__reduce_ex__',\n",
              " '__repr__',\n",
              " '__reversed__',\n",
              " '__rmul__',\n",
              " '__setattr__',\n",
              " '__setitem__',\n",
              " '__sizeof__',\n",
              " '__str__',\n",
              " '__subclasshook__',\n",
              " 'append',\n",
              " 'clear',\n",
              " 'copy',\n",
              " 'count',\n",
              " 'extend',\n",
              " 'index',\n",
              " 'insert',\n",
              " 'pop',\n",
              " 'remove',\n",
              " 'reverse',\n",
              " 'sort']"
            ]
          },
          "metadata": {},
          "execution_count": 9
        }
      ]
    },
    {
      "cell_type": "code",
      "source": [
        "#APPEND\n",
        "e=[]"
      ],
      "metadata": {
        "id": "ch_8Aqrjzj6m"
      },
      "execution_count": null,
      "outputs": []
    },
    {
      "cell_type": "code",
      "source": [
        "print(e)"
      ],
      "metadata": {
        "colab": {
          "base_uri": "https://localhost:8080/"
        },
        "id": "RFYaI2jvz2Jb",
        "outputId": "e879fc8d-5195-4b6e-bff5-f5001542841e"
      },
      "execution_count": null,
      "outputs": [
        {
          "output_type": "stream",
          "name": "stdout",
          "text": [
            "[]\n"
          ]
        }
      ]
    },
    {
      "cell_type": "code",
      "source": [
        "e.append(\"banana\")"
      ],
      "metadata": {
        "id": "4xdgwhF3z3Nx"
      },
      "execution_count": null,
      "outputs": []
    },
    {
      "cell_type": "code",
      "source": [
        "print(e)"
      ],
      "metadata": {
        "colab": {
          "base_uri": "https://localhost:8080/"
        },
        "id": "-EGEQS2J0Fpp",
        "outputId": "c49d69c2-541f-4ba4-b38b-4cc4995f3fce"
      },
      "execution_count": null,
      "outputs": [
        {
          "output_type": "stream",
          "name": "stdout",
          "text": [
            "['banana']\n"
          ]
        }
      ]
    },
    {
      "cell_type": "code",
      "source": [
        "e.append(\"apple\")"
      ],
      "metadata": {
        "id": "FUJNghM50G24"
      },
      "execution_count": null,
      "outputs": []
    },
    {
      "cell_type": "code",
      "source": [
        "print(e)"
      ],
      "metadata": {
        "colab": {
          "base_uri": "https://localhost:8080/"
        },
        "id": "95BNwSRn0k4r",
        "outputId": "dd14c924-93b1-4105-d9e1-f7bd8545a7dc"
      },
      "execution_count": null,
      "outputs": [
        {
          "output_type": "stream",
          "name": "stdout",
          "text": [
            "['banana', 'apple']\n"
          ]
        }
      ]
    },
    {
      "cell_type": "code",
      "source": [
        "scores=[]\n",
        "sum=0\n",
        "n=int(input(\"Enter the number of students\"))\n",
        "for i in range(n):\n",
        "  s=int(input(\"Enter the score\"))\n",
        "  scores.append(s)\n",
        "  sum=sum+s\n",
        "print(scores)\n",
        "print(\"average\",sum/n)\n"
      ],
      "metadata": {
        "colab": {
          "base_uri": "https://localhost:8080/"
        },
        "id": "2OEZQuDw0mVe",
        "outputId": "ea53588d-495d-4f45-9fb5-ed6b89183d76"
      },
      "execution_count": null,
      "outputs": [
        {
          "output_type": "stream",
          "name": "stdout",
          "text": [
            "Enter the number of students3\n",
            "Enter the score10\n",
            "Enter the score12\n",
            "Enter the score14\n",
            "[10, 12, 14]\n",
            "average 12.0\n"
          ]
        }
      ]
    },
    {
      "cell_type": "code",
      "source": [
        "l=[1,2,3,4,5,6]\n",
        "sum=0\n",
        "for i in l:\n",
        "  sum=sum+i\n",
        "print(sum)\n",
        "print(\"average\",sum/len(l))"
      ],
      "metadata": {
        "colab": {
          "base_uri": "https://localhost:8080/"
        },
        "id": "T27S9wxZ2XkY",
        "outputId": "3ff388a1-3ddc-4b94-c7a0-d03573c6533e"
      },
      "execution_count": null,
      "outputs": [
        {
          "output_type": "stream",
          "name": "stdout",
          "text": [
            "21\n",
            "average 3.5\n"
          ]
        }
      ]
    },
    {
      "cell_type": "code",
      "source": [
        "n=int(input(\"Enter number of students\"))\n",
        "eList=[]\n",
        "oList=[]\n",
        "for i in range(n):\n",
        "  score=int(input(\"Enter the score\"))\n",
        "  if(score%2==0):\n",
        "    eList.append(score)\n",
        "  else:\n",
        "    oList.append(score)\n",
        "print(\"Evn List\",eList)\n",
        "print(\"Odd List\",oList)"
      ],
      "metadata": {
        "colab": {
          "base_uri": "https://localhost:8080/"
        },
        "id": "hWJ-KzNz3kLR",
        "outputId": "780c164a-5e47-4b19-d90b-c90d83b1b03e"
      },
      "execution_count": null,
      "outputs": [
        {
          "output_type": "stream",
          "name": "stdout",
          "text": [
            "Enter number of students6\n",
            "Enter the score10\n",
            "Enter the score11\n",
            "Enter the score12\n",
            "Enter the score13\n",
            "Enter the score14\n",
            "Enter the score15\n",
            "Evn List [10, 12, 14]\n",
            "Odd List [11, 13, 15]\n"
          ]
        }
      ]
    },
    {
      "cell_type": "code",
      "source": [
        "l1=[10,200,90,21,300,1,400]"
      ],
      "metadata": {
        "id": "XzfYY8Ix3mUF"
      },
      "execution_count": null,
      "outputs": []
    },
    {
      "cell_type": "code",
      "source": [
        "l1"
      ],
      "metadata": {
        "colab": {
          "base_uri": "https://localhost:8080/"
        },
        "id": "ToSFQelW8Nb8",
        "outputId": "948cccaf-b2b4-4888-da45-cf89a065b3d4"
      },
      "execution_count": null,
      "outputs": [
        {
          "output_type": "execute_result",
          "data": {
            "text/plain": [
              "[10, 200, 90, 21, 300, 1, 400]"
            ]
          },
          "metadata": {},
          "execution_count": 27
        }
      ]
    },
    {
      "cell_type": "code",
      "source": [
        "l1.sort(reverse=True)"
      ],
      "metadata": {
        "id": "VT5PyqrM8WoP"
      },
      "execution_count": null,
      "outputs": []
    },
    {
      "cell_type": "code",
      "source": [
        "l1"
      ],
      "metadata": {
        "colab": {
          "base_uri": "https://localhost:8080/"
        },
        "id": "7bT01GSE8FQc",
        "outputId": "fb851821-de28-478f-9348-8045e88e4861"
      },
      "execution_count": null,
      "outputs": [
        {
          "output_type": "execute_result",
          "data": {
            "text/plain": [
              "[400, 300, 200, 90, 21, 10, 1]"
            ]
          },
          "metadata": {},
          "execution_count": 31
        }
      ]
    },
    {
      "cell_type": "code",
      "source": [],
      "metadata": {
        "colab": {
          "base_uri": "https://localhost:8080/"
        },
        "id": "uB3LXlH82anl",
        "outputId": "953d89d4-e7a1-457d-87f9-86ecf556a1bb"
      },
      "execution_count": null,
      "outputs": [
        {
          "output_type": "execute_result",
          "data": {
            "text/plain": [
              "21"
            ]
          },
          "metadata": {},
          "execution_count": 19
        }
      ]
    },
    {
      "cell_type": "code",
      "source": [
        "#fruit market-- vendors----different kinds of "
      ],
      "metadata": {
        "id": "BI3Bf0fQ2f_A"
      },
      "execution_count": null,
      "outputs": []
    },
    {
      "cell_type": "code",
      "source": [
        "fruits=[\"apple\",\"banana\",\"papaya\"]\n",
        "price=[20,30,40]"
      ],
      "metadata": {
        "id": "5K41ZVXE5TwH"
      },
      "execution_count": null,
      "outputs": []
    },
    {
      "cell_type": "code",
      "source": [
        "x=fruits.index(\"banana\")"
      ],
      "metadata": {
        "id": "VUufJyUX7cE2"
      },
      "execution_count": null,
      "outputs": []
    },
    {
      "cell_type": "code",
      "source": [
        "y=p[x]"
      ],
      "metadata": {
        "colab": {
          "base_uri": "https://localhost:8080/"
        },
        "id": "ku062B9S7mfq",
        "outputId": "5265482f-e8f4-4713-8528-f62329d37a93"
      },
      "execution_count": null,
      "outputs": [
        {
          "output_type": "execute_result",
          "data": {
            "text/plain": [
              "30"
            ]
          },
          "metadata": {},
          "execution_count": 5
        }
      ]
    },
    {
      "cell_type": "code",
      "source": [
        "l1=[10,20,30,40]\n",
        "l2=[100,200,300,400]"
      ],
      "metadata": {
        "id": "r8akeXg-9Mlh"
      },
      "execution_count": null,
      "outputs": []
    },
    {
      "cell_type": "code",
      "source": [
        "l1.extend(l2)"
      ],
      "metadata": {
        "id": "D4UKsUAyEGfp"
      },
      "execution_count": null,
      "outputs": []
    },
    {
      "cell_type": "code",
      "source": [
        "l1"
      ],
      "metadata": {
        "colab": {
          "base_uri": "https://localhost:8080/"
        },
        "id": "E4ZfRfh1EMrM",
        "outputId": "7331e2eb-e51f-47ca-e2c9-e7ef7d4714bc"
      },
      "execution_count": null,
      "outputs": [
        {
          "output_type": "execute_result",
          "data": {
            "text/plain": [
              "[10, 20, 30, 40, 100, 200, 300, 400]"
            ]
          },
          "metadata": {},
          "execution_count": 8
        }
      ]
    },
    {
      "cell_type": "code",
      "source": [
        "dir(l1)"
      ],
      "metadata": {
        "colab": {
          "base_uri": "https://localhost:8080/"
        },
        "id": "qRcDt_YKENzN",
        "outputId": "e1a83981-b0e7-40fe-8332-cc19bb1cfc11"
      },
      "execution_count": null,
      "outputs": [
        {
          "output_type": "execute_result",
          "data": {
            "text/plain": [
              "['__add__',\n",
              " '__class__',\n",
              " '__contains__',\n",
              " '__delattr__',\n",
              " '__delitem__',\n",
              " '__dir__',\n",
              " '__doc__',\n",
              " '__eq__',\n",
              " '__format__',\n",
              " '__ge__',\n",
              " '__getattribute__',\n",
              " '__getitem__',\n",
              " '__gt__',\n",
              " '__hash__',\n",
              " '__iadd__',\n",
              " '__imul__',\n",
              " '__init__',\n",
              " '__init_subclass__',\n",
              " '__iter__',\n",
              " '__le__',\n",
              " '__len__',\n",
              " '__lt__',\n",
              " '__mul__',\n",
              " '__ne__',\n",
              " '__new__',\n",
              " '__reduce__',\n",
              " '__reduce_ex__',\n",
              " '__repr__',\n",
              " '__reversed__',\n",
              " '__rmul__',\n",
              " '__setattr__',\n",
              " '__setitem__',\n",
              " '__sizeof__',\n",
              " '__str__',\n",
              " '__subclasshook__',\n",
              " 'append',\n",
              " 'clear',\n",
              " 'copy',\n",
              " 'count',\n",
              " 'extend',\n",
              " 'index',\n",
              " 'insert',\n",
              " 'pop',\n",
              " 'remove',\n",
              " 'reverse',\n",
              " 'sort']"
            ]
          },
          "metadata": {},
          "execution_count": 9
        }
      ]
    },
    {
      "cell_type": "code",
      "source": [
        "l1"
      ],
      "metadata": {
        "colab": {
          "base_uri": "https://localhost:8080/"
        },
        "id": "KrV1WbZYElsl",
        "outputId": "62e5eaeb-54a4-4d37-ec97-c22b31a5fdb2"
      },
      "execution_count": null,
      "outputs": [
        {
          "output_type": "execute_result",
          "data": {
            "text/plain": [
              "[10, 20, 30, 40, 100, 200, 300, 400]"
            ]
          },
          "metadata": {},
          "execution_count": 10
        }
      ]
    },
    {
      "cell_type": "code",
      "source": [
        "l1.count(30)"
      ],
      "metadata": {
        "colab": {
          "base_uri": "https://localhost:8080/"
        },
        "id": "tI2z_hDbEq3r",
        "outputId": "f76b04aa-f91d-4539-985b-422f47416f0a"
      },
      "execution_count": null,
      "outputs": [
        {
          "output_type": "execute_result",
          "data": {
            "text/plain": [
              "1"
            ]
          },
          "metadata": {},
          "execution_count": 11
        }
      ]
    },
    {
      "cell_type": "code",
      "source": [
        "l1.pop(3)"
      ],
      "metadata": {
        "colab": {
          "base_uri": "https://localhost:8080/"
        },
        "id": "jXSFqLW7EuT3",
        "outputId": "3a1e68de-de62-4f9a-b84e-711791c1ed72"
      },
      "execution_count": null,
      "outputs": [
        {
          "output_type": "execute_result",
          "data": {
            "text/plain": [
              "40"
            ]
          },
          "metadata": {},
          "execution_count": 13
        }
      ]
    },
    {
      "cell_type": "code",
      "source": [
        "l1"
      ],
      "metadata": {
        "colab": {
          "base_uri": "https://localhost:8080/"
        },
        "id": "EJEgw3-2FHQn",
        "outputId": "afe21c85-7914-4d38-dbd5-56304ac8fad4"
      },
      "execution_count": null,
      "outputs": [
        {
          "output_type": "execute_result",
          "data": {
            "text/plain": [
              "[10, 20, 30, 100, 200, 300, 400]"
            ]
          },
          "metadata": {},
          "execution_count": 14
        }
      ]
    },
    {
      "cell_type": "code",
      "source": [],
      "metadata": {
        "id": "jVSYX1LzFLtN"
      },
      "execution_count": null,
      "outputs": []
    },
    {
      "cell_type": "code",
      "source": [],
      "metadata": {
        "id": "Mm42S5tjFC2V"
      },
      "execution_count": null,
      "outputs": []
    },
    {
      "cell_type": "code",
      "source": [],
      "metadata": {
        "id": "ci-bCcEA8TlU"
      },
      "execution_count": null,
      "outputs": []
    }
  ]
}